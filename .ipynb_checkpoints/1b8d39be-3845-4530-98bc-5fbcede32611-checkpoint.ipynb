{
 "cells": [
  {
   "cell_type": "markdown",
   "metadata": {},
   "source": [
    "<div class=\"alert alert-success\">\n",
    "<h2> Комментарий ревьюера</h2>\n",
    "\n",
    "Никита, привет! Спасибо, что прислал работу во время :) \n",
    "    \n",
    "Предлагаю перейти на ты, чтобы нам было проще взаимодействовать 😊\n",
    "    \n",
    "Меня зовут Евгений, и я буду проверять твой проект) \n",
    "Ты проделал большую работу над проектом, однако в любом деле всегда можно можно что-то улучшить. Моя основная цель — не показать, что где—то совершены какие—либо ошибки, а поделиться своим опытом, который поможет тебе в дальнейших работах. Далее в файле ты сможешь увидить мои комментарии, постарайся учесть их при выполнении следующих заданий.    \n",
    "\n",
    "Мои комментарии обозначены пометкой **Комментарий ревьюера**. Далее в файле ты сможешь найти их в похожих ячейках (если фон комментария <font color=green>зелёный</font> - всё сделано правильно; <font color=orange>оранжевый</font> - есть замечания, но не критично; <font color=red>красный</font> - нужно переделать). Не удаляй эти комментарии и постарайся учесть их в ходе выполнения данного проекта. \n",
    "    \n",
    "Было бы здорово, если бы ты комментировал мои комментарии, это поможет нам быстрее понять друг друга, и при необходимости скорректировать общие действия друг друга. \n",
    "    \n",
    "Можно в том числе рассказывать свои общие впечатления от проекта, нам всегда интересно их услышать 😊 \n",
    "\n",
    "</div>\n",
    "\n",
    "<b>Женя, привет! Очень был рад оперативно получить обратную связь)</b>"
   ]
  },
  {
   "cell_type": "markdown",
   "metadata": {},
   "source": [
    "## Исследование надёжности заёмщиков\n",
    "\n",
    "Заказчик — кредитный отдел банка. Нужно разобраться, влияет ли семейное положение и количество детей клиента на факт погашения кредита в срок. Входные данные от банка — статистика о платёжеспособности клиентов.\n",
    "\n",
    "Результаты исследования будут учтены при построении модели **кредитного скоринга** — специальной системы, которая оценивает способность потенциального заёмщика вернуть кредит банку. "
   ]
  },
  {
   "cell_type": "markdown",
   "metadata": {},
   "source": [
    "<div class=\"alert alert-success\">\n",
    "<h2> Комментарий ревьюера</h2>\n",
    "\n",
    "Вступление в работу очень важно. Так ты поясняешь то, чему она посвящена. Можно также привести краткий план проведения самой работы и описание используемых столбцов. \n",
    "\n",
    "</div>"
   ]
  },
  {
   "cell_type": "markdown",
   "metadata": {},
   "source": [
    "### Шаг 1. Откройте файл с данными и изучите общую информацию. "
   ]
  },
  {
   "cell_type": "code",
   "execution_count": 1,
   "metadata": {},
   "outputs": [
    {
     "name": "stdout",
     "output_type": "stream",
     "text": [
      "<class 'pandas.core.frame.DataFrame'>\n",
      "RangeIndex: 21525 entries, 0 to 21524\n",
      "Data columns (total 12 columns):\n",
      " #   Column            Non-Null Count  Dtype  \n",
      "---  ------            --------------  -----  \n",
      " 0   children          21525 non-null  int64  \n",
      " 1   days_employed     19351 non-null  float64\n",
      " 2   dob_years         21525 non-null  int64  \n",
      " 3   education         21525 non-null  object \n",
      " 4   education_id      21525 non-null  int64  \n",
      " 5   family_status     21525 non-null  object \n",
      " 6   family_status_id  21525 non-null  int64  \n",
      " 7   gender            21525 non-null  object \n",
      " 8   income_type       21525 non-null  object \n",
      " 9   debt              21525 non-null  int64  \n",
      " 10  total_income      19351 non-null  float64\n",
      " 11  purpose           21525 non-null  object \n",
      "dtypes: float64(2), int64(5), object(5)\n",
      "memory usage: 2.0+ MB\n"
     ]
    }
   ],
   "source": [
    "import pandas as pd\n",
    "df = pd.read_csv('data.csv')\n",
    "df.info()"
   ]
  },
  {
   "cell_type": "markdown",
   "metadata": {},
   "source": [
    "### Вывод"
   ]
  },
  {
   "cell_type": "markdown",
   "metadata": {},
   "source": [
    "Общая информация показала, что в колонках days_employed и total_income есть пропущенные строки. Их количество равно, соответственно, эти люди никогда не работали официально. "
   ]
  },
  {
   "cell_type": "markdown",
   "metadata": {},
   "source": [
    "### Шаг 2. Предобработка данных"
   ]
  },
  {
   "cell_type": "markdown",
   "metadata": {},
   "source": [
    "### Обработка пропусков"
   ]
  },
  {
   "cell_type": "code",
   "execution_count": 2,
   "metadata": {
    "scrolled": true
   },
   "outputs": [
    {
     "name": "stdout",
     "output_type": "stream",
     "text": [
      "<class 'pandas.core.frame.DataFrame'>\n",
      "RangeIndex: 21525 entries, 0 to 21524\n",
      "Data columns (total 12 columns):\n",
      " #   Column            Non-Null Count  Dtype  \n",
      "---  ------            --------------  -----  \n",
      " 0   children          21525 non-null  int64  \n",
      " 1   days_employed     21525 non-null  float64\n",
      " 2   dob_years         21525 non-null  int64  \n",
      " 3   education         21525 non-null  object \n",
      " 4   education_id      21525 non-null  int64  \n",
      " 5   family_status     21525 non-null  object \n",
      " 6   family_status_id  21525 non-null  int64  \n",
      " 7   gender            21525 non-null  object \n",
      " 8   income_type       21525 non-null  object \n",
      " 9   debt              21525 non-null  int64  \n",
      " 10  total_income      21525 non-null  float64\n",
      " 11  purpose           21525 non-null  object \n",
      "dtypes: float64(2), int64(5), object(5)\n",
      "memory usage: 2.0+ MB\n"
     ]
    }
   ],
   "source": [
    "df['days_employed'] = df['days_employed'].fillna(0)\n",
    "df['total_income'] = df['total_income'].fillna(0)\n",
    "df.info()"
   ]
  },
  {
   "cell_type": "markdown",
   "metadata": {},
   "source": [
    "### Вывод"
   ]
  },
  {
   "cell_type": "markdown",
   "metadata": {},
   "source": [
    "Так как был сделан вывод, что люди не работали, заполняем пропуски нулями."
   ]
  },
  {
   "cell_type": "markdown",
   "metadata": {},
   "source": [
    "<div class=\"alert alert-success\">\n",
    "<h2> Комментарий ревьюера</h2>\n",
    "\n",
    "А может это ошибка в данных? \n",
    "    \n",
    "Такое часто возможно. \n",
    "\n",
    "</div>"
   ]
  },
  {
   "cell_type": "markdown",
   "metadata": {},
   "source": [
    "### Замена типа данных"
   ]
  },
  {
   "cell_type": "code",
   "execution_count": 3,
   "metadata": {},
   "outputs": [
    {
     "name": "stdout",
     "output_type": "stream",
     "text": [
      "<class 'pandas.core.frame.DataFrame'>\n",
      "RangeIndex: 21525 entries, 0 to 21524\n",
      "Data columns (total 12 columns):\n",
      " #   Column            Non-Null Count  Dtype \n",
      "---  ------            --------------  ----- \n",
      " 0   children          21525 non-null  int64 \n",
      " 1   days_employed     21525 non-null  int64 \n",
      " 2   dob_years         21525 non-null  int64 \n",
      " 3   education         21525 non-null  object\n",
      " 4   education_id      21525 non-null  int64 \n",
      " 5   family_status     21525 non-null  object\n",
      " 6   family_status_id  21525 non-null  int64 \n",
      " 7   gender            21525 non-null  object\n",
      " 8   income_type       21525 non-null  object\n",
      " 9   debt              21525 non-null  int64 \n",
      " 10  total_income      21525 non-null  int64 \n",
      " 11  purpose           21525 non-null  object\n",
      "dtypes: int64(7), object(5)\n",
      "memory usage: 2.0+ MB\n"
     ]
    }
   ],
   "source": [
    "df['days_employed'] = df['days_employed'].astype('int').abs()\n",
    "df['total_income'] = df['total_income'].astype('int')\n",
    "df['children'] = df['children'].abs()\n",
    "\n",
    "df.info()"
   ]
  },
  {
   "cell_type": "markdown",
   "metadata": {},
   "source": [
    "<div class=\"alert alert-success\">\n",
    "<h2> Комментарий ревьюера</h2>\n",
    "\n",
    "Обрати внимание, что мы можем применить метод `fillna()` и `astype()` к списку столбцов. \n",
    "</div>"
   ]
  },
  {
   "cell_type": "markdown",
   "metadata": {},
   "source": [
    "### Вывод"
   ]
  },
  {
   "cell_type": "markdown",
   "metadata": {},
   "source": [
    "Произвели замену отрицательных чисел на положительные целые. Использованы методы astype и abs. "
   ]
  },
  {
   "cell_type": "markdown",
   "metadata": {},
   "source": [
    "### Обработка дубликатов и удаление не отражающих действительность значений "
   ]
  },
  {
   "cell_type": "code",
   "execution_count": 4,
   "metadata": {},
   "outputs": [
    {
     "name": "stdout",
     "output_type": "stream",
     "text": [
      "<class 'pandas.core.frame.DataFrame'>\n",
      "Int64Index: 17957 entries, 0 to 21524\n",
      "Data columns (total 12 columns):\n",
      " #   Column            Non-Null Count  Dtype \n",
      "---  ------            --------------  ----- \n",
      " 0   children          17957 non-null  int64 \n",
      " 1   days_employed     17957 non-null  int64 \n",
      " 2   dob_years         17957 non-null  int64 \n",
      " 3   education         17957 non-null  object\n",
      " 4   education_id      17957 non-null  int64 \n",
      " 5   family_status     17957 non-null  object\n",
      " 6   family_status_id  17957 non-null  int64 \n",
      " 7   gender            17957 non-null  object\n",
      " 8   income_type       17957 non-null  object\n",
      " 9   debt              17957 non-null  int64 \n",
      " 10  total_income      17957 non-null  int64 \n",
      " 11  purpose           17957 non-null  object\n",
      "dtypes: int64(7), object(5)\n",
      "memory usage: 1.8+ MB\n"
     ]
    }
   ],
   "source": [
    "df = df.drop(df[df['days_employed'] > 36500].index) #убрали инплейс и предопределили переменную \n",
    "mean_dob = df['dob_years'].mean()\n",
    "df['dob_years'].replace('0', mean_dob)\n",
    "df.drop_duplicates(inplace=True)\n",
    "df.drop(df[df['children'] > 5].index, inplace = True)\n",
    "\n",
    "\n",
    "df.info()"
   ]
  },
  {
   "cell_type": "markdown",
   "metadata": {},
   "source": [
    "<div class=\"alert alert-warning\">\n",
    "<h2> Комментарий ревьюера</h2>\n",
    "\n",
    "Я бы рекомендовал не использовать атрибут `inplace`, так как в последующих обновлениях библиотеки `pandas` он будет удален.\n",
    "</div>\n",
    "\n",
    "<b>Не знаю почему, но без 'inplace' тогда не убираются значения...</b>\n"
   ]
  },
  {
   "cell_type": "markdown",
   "metadata": {},
   "source": [
    "<div class=\"alert alert-success\">\n",
    "<h2> Комментарий ревьюера</h2>\n",
    "\n",
    "Для этого нужно переопределить переменную. \n",
    "    \n",
    "</div>"
   ]
  },
  {
   "cell_type": "markdown",
   "metadata": {},
   "source": [
    "### Вывод"
   ]
  },
  {
   "cell_type": "markdown",
   "metadata": {},
   "source": [
    "Были удалены полные дубликаты данных, которые, вероятно, по-ошибке были повторно внесены. В строки, где возраст равнялся нулю, поставили средний возраст по таблице. Удалены строки, где количество дней стажа составляло больше условно 36500 дней, тогда как данные не отражают действительность и не могут быть использованы для дальнейшего анализа. "
   ]
  },
  {
   "cell_type": "markdown",
   "metadata": {},
   "source": [
    "### Лемматизация"
   ]
  },
  {
   "cell_type": "code",
   "execution_count": 5,
   "metadata": {},
   "outputs": [
    {
     "data": {
      "text/plain": [
       "array(['покупка жилья', 'приобретение автомобиля',\n",
       "       'дополнительное образование', 'операции с жильем', 'образование',\n",
       "       'на проведение свадьбы', 'покупка жилья для семьи',\n",
       "       'покупка недвижимости', 'покупка коммерческой недвижимости',\n",
       "       'сыграть свадьбу', 'покупка жилой недвижимости',\n",
       "       'строительство собственной недвижимости', 'недвижимость',\n",
       "       'строительство недвижимости', 'на покупку своего автомобиля',\n",
       "       'на покупку подержанного автомобиля',\n",
       "       'строительство жилой недвижимости', 'жилье',\n",
       "       'операции со своей недвижимостью', 'автомобили',\n",
       "       'заняться образованием', 'сделка с подержанным автомобилем',\n",
       "       'получение образования', 'автомобиль', 'свадьба',\n",
       "       'получение дополнительного образования', 'покупка своего жилья',\n",
       "       'операции с недвижимостью', 'получение высшего образования',\n",
       "       'операции с коммерческой недвижимостью', 'свой автомобиль',\n",
       "       'сделка с автомобилем', 'профильное образование',\n",
       "       'высшее образование', 'на покупку автомобиля',\n",
       "       'покупка жилья для сдачи', 'ремонт жилью',\n",
       "       'заняться высшим образованием'], dtype=object)"
      ]
     },
     "execution_count": 5,
     "metadata": {},
     "output_type": "execute_result"
    }
   ],
   "source": [
    "from pymystem3 import Mystem\n",
    "m = Mystem()\n",
    "\n",
    "df['purpose_lemmas'] = list(map(m.lemmatize, df['purpose']))\n",
    "df['purpose'].unique()"
   ]
  },
  {
   "cell_type": "markdown",
   "metadata": {},
   "source": [
    "### Вывод"
   ]
  },
  {
   "cell_type": "markdown",
   "metadata": {},
   "source": [
    "Провели лемматизацию столбца целей выдачи кредита. Добавили полученный результат в качестве дополнительного столбца. Выявили с помощью unique() ключевые слова, по которым будем категоризировать."
   ]
  },
  {
   "cell_type": "markdown",
   "metadata": {},
   "source": [
    "### Категоризация данных"
   ]
  },
  {
   "cell_type": "code",
   "execution_count": 6,
   "metadata": {},
   "outputs": [],
   "source": [
    "#будем категоризировать по уровню дохода и присвоим каждому уровню свой индекс.\n",
    "\n",
    "\n",
    "def total_income_index(income_sum):\n",
    "    if income_sum == 0:\n",
    "        return '0' #доход отсутствует\n",
    "    if income_sum > 0 and income_sum < 15000:\n",
    "        return '1' #очень низкий доход\n",
    "    if income_sum >= 15000 and income_sum < 30000:\n",
    "        return '2' #низкий доход\n",
    "    if income_sum >= 30000 and income_sum < 60000:\n",
    "        return '3' #средний доход\n",
    "    if income_sum >= 60000 and income_sum < 100000:\n",
    "        return '4' #доход выше среднего\n",
    "    if income_sum >= 100000 and income_sum < 150000:\n",
    "        return '5' #высокий доход\n",
    "    if income_sum >= 150000 and income_sum < 250000:\n",
    "        return '6' #очень высокий доход\n",
    "    if income_sum >= 250000 and income_sum < 500000:\n",
    "        return '7' #сверхвысокий доход 1\n",
    "    if income_sum >= 500000 and income_sum < 1000000:\n",
    "        return '8' #сверхвысокий доход 2\n",
    "    if income_sum >= 1000000:\n",
    "        return '9' #запредельный доход\n",
    "     \n",
    "df['total_income_index'] = df['total_income'].apply(total_income_index)\n",
    "\n",
    "\n",
    "#категоризируем по основным ключевым словам из столбца цели выдачи кредита. Присваем каждой категории индекс\n",
    "\n",
    "def purpose_id(words):\n",
    "    if 'свадьба' in words:\n",
    "        return '1'\n",
    "    if 'недвижимость' in words:\n",
    "        return '2'\n",
    "    if 'автомобиль' in words:\n",
    "        return '3'\n",
    "    if 'жилье' in words:\n",
    "        return '4'\n",
    "    if 'образование' in words:\n",
    "        return '5'\n",
    "    \n",
    "df['purpose_lemmas_id'] = df['purpose_lemmas'].apply(purpose_id)"
   ]
  },
  {
   "cell_type": "markdown",
   "metadata": {},
   "source": [
    "<div class=\"alert alert-success\">\n",
    "<h2> Комментарий ревьюера</h2>\n",
    "\n",
    "Было бы интересно увидеть твои мысли по поводу определенных категорий – уровня доходов. Почему именно такое распределение. \n",
    "</div>\n",
    "\n",
    "<b>добавил в выводе пояснение</b>"
   ]
  },
  {
   "cell_type": "markdown",
   "metadata": {},
   "source": [
    "### Вывод"
   ]
  },
  {
   "cell_type": "markdown",
   "metadata": {},
   "source": [
    "Провели категоризацию по уровню дохода и различным целям кредита. Присвоили индексы, по которым будем группировать.\n",
    "\n",
    "Уровень дохода определен исходя из допущения, что у нас местная валюта (рубли). Соответственно, категоризация условно определена по покупательной способности денег."
   ]
  },
  {
   "cell_type": "markdown",
   "metadata": {},
   "source": [
    "### Шаг 3. Ответьте на вопросы"
   ]
  },
  {
   "cell_type": "markdown",
   "metadata": {},
   "source": [
    "- Есть ли зависимость между наличием детей и возвратом кредита в срок?"
   ]
  },
  {
   "cell_type": "code",
   "execution_count": 7,
   "metadata": {
    "scrolled": true
   },
   "outputs": [
    {
     "data": {
      "text/plain": [
       "children\n",
       "0    0.081804\n",
       "1    0.094212\n",
       "2    0.094349\n",
       "3    0.080247\n",
       "4    0.100000\n",
       "5    0.000000\n",
       "Name: debt, dtype: float64"
      ]
     },
     "execution_count": 7,
     "metadata": {},
     "output_type": "execute_result"
    }
   ],
   "source": [
    "\n",
    "df.groupby('children')['debt'].sum() / df.groupby('children')['debt'].count()"
   ]
  },
  {
   "cell_type": "markdown",
   "metadata": {},
   "source": [
    "### Вывод"
   ]
  },
  {
   "cell_type": "markdown",
   "metadata": {},
   "source": [
    "Сгруппировали людей, просрочивших кредит, по количеству детей в семье. Затем поделили на общее количество получивших кредит людей в определенной группе, чтобы выявить процентное соотношение. \n",
    "\n",
    "Таким образом, было выявлено, что количество просрочивших кредит варьируется от <b>8% до 10%</b>, независимо от количества детей."
   ]
  },
  {
   "cell_type": "markdown",
   "metadata": {},
   "source": [
    "<div class=\"alert alert-danger\">\n",
    "<h2> Комментарий ревьюера</h2>\n",
    "\n",
    "Логика расчета верна с точки зрения определения долей у каждой категории клиента. \n",
    "    \n",
    "Но обрати внимание, что нам нужно оценить эту долю внутри каждой группы. \n",
    "    \n",
    "То есть посчитать в следующем формате – количество должников не выплативших кредит / общее количество должников внутри группы\n",
    "    \n",
    "Давай скорректируем наши расчеты и посмотрим, изменятся ли наши выводы или нет. \n",
    "    \n",
    "</div>\n",
    "\n",
    "<b>Да, не сразу уловил логику. Понял, что нужно выявить отношение количества просрочивших кредит к общему количеству получивших кредит в определенной группе. Исправлено.</b> \n"
   ]
  },
  {
   "cell_type": "markdown",
   "metadata": {},
   "source": [
    "<div class=\"alert alert-success\">\n",
    "<h2> Комментарий ревьюера</h2>\n",
    "\n",
    "Теперь верно 😊👍\n",
    "    \n",
    "</div>"
   ]
  },
  {
   "cell_type": "markdown",
   "metadata": {},
   "source": [
    "- Есть ли зависимость между семейным положением и возвратом кредита в срок?"
   ]
  },
  {
   "cell_type": "code",
   "execution_count": 8,
   "metadata": {},
   "outputs": [
    {
     "data": {
      "text/plain": [
       "family_status_id\n",
       "0    0.079609\n",
       "1    0.099580\n",
       "2    0.065539\n",
       "3    0.073367\n",
       "4    0.104904\n",
       "Name: debt, dtype: float64"
      ]
     },
     "execution_count": 8,
     "metadata": {},
     "output_type": "execute_result"
    }
   ],
   "source": [
    "df.groupby('family_status_id')['debt'].sum() / df.groupby('family_status_id')['debt'].count()\n",
    "\n",
    "\n",
    "# 0 - женат / замужем\n",
    "# 1 - гражданский брак\n",
    "# 2 - вдовец / вдова\n",
    "# 3 - в разводе\n",
    "# 4 - не женат / не замужем"
   ]
  },
  {
   "cell_type": "markdown",
   "metadata": {},
   "source": [
    "### Вывод"
   ]
  },
  {
   "cell_type": "markdown",
   "metadata": {},
   "source": [
    "Сгруппировали людей, просрочивших кредит, по семейному положению. Затем поделили на общее количество получивших кредит людей, чтобы выявить процентное соотношение. \n",
    "\n",
    "Было выявлено, что из всех групп наиболее часто не возвращают кредит вовремя лица, находящиеся в <b>гражданском браке</b> или <b>неженатые / незамужние</b>: около <b>10%</b> случаев."
   ]
  },
  {
   "cell_type": "markdown",
   "metadata": {},
   "source": [
    "- Есть ли зависимость между уровнем дохода и возвратом кредита в срок?"
   ]
  },
  {
   "cell_type": "code",
   "execution_count": 9,
   "metadata": {},
   "outputs": [
    {
     "data": {
      "text/plain": [
       "total_income_index\n",
       "0    0.080531\n",
       "2    0.000000\n",
       "3    0.069977\n",
       "4    0.096062\n",
       "5    0.092859\n",
       "6    0.086790\n",
       "7    0.071213\n",
       "8    0.067416\n",
       "9    0.080000\n",
       "Name: debt, dtype: float64"
      ]
     },
     "execution_count": 9,
     "metadata": {},
     "output_type": "execute_result"
    }
   ],
   "source": [
    "df.groupby('total_income_index')['debt'].sum() / df.groupby('total_income_index')['debt'].count()\n",
    "\n",
    "# тыс. \n",
    "#0 - доход отсутствует - 0 \n",
    "#1 - очень низкий доход - до 15\n",
    "#2 - низкий доход - 15-30\n",
    "#3 - средний доход - 30-60\n",
    "#4 - доход выше среднего - 60-100\n",
    "#5 - высокий доход - 100-150\n",
    "#6 - очень высокий доход - 150-250\n",
    "#7 - сверхвысокий доход 1 - 250-500\n",
    "#8 - сверхвысокий доход 2 - 500-1000\n",
    "#9 - запределельный доход - >1000"
   ]
  },
  {
   "cell_type": "markdown",
   "metadata": {},
   "source": [
    "### Вывод"
   ]
  },
  {
   "cell_type": "markdown",
   "metadata": {},
   "source": [
    "В ходе исследования было выявлено, что категория людей из группы, которая наиболее часто не отдает кредит в срок, имеет доход от <b>60 тыс. до 150 тыс.</b> (от <b>9,2 до 9,6%</b> случаев). В среднюю категорию риска входят лица <b>не имеющие дохода</b>, лица с доходом от <b>150</b> до <b>250</b> тыс. или с доходом <b>свыше 1 млн</b>. В наименьшую категорию риска из группы входят люди с доходом от <b>30 тыс. до 60 тыс.</b> и от <b>250 тыс. до 1 млн.</b>. Отдельно стоит отметить категорию лиц с доходом до <b>15 тыс.</b>, которые вообще не взяли кредит и от <b>15 до 30 тыс.</b>, которые не имели просрочек по платежам. "
   ]
  },
  {
   "cell_type": "markdown",
   "metadata": {},
   "source": [
    "<div class=\"alert alert-success\">\n",
    "<h2> Комментарий ревьюера</h2>\n",
    "\n",
    "Верно. \n",
    "    \n",
    "---\n",
    "    \n",
    "Обрати внимание, что наши действия начинают повторяться. Это значит, что мы можем создать функцию, для наших постоянных расчетов. \n",
    "    \n",
    "</div>"
   ]
  },
  {
   "cell_type": "markdown",
   "metadata": {},
   "source": [
    "- Как разные цели кредита влияют на его возврат в срок?"
   ]
  },
  {
   "cell_type": "code",
   "execution_count": 10,
   "metadata": {},
   "outputs": [
    {
     "data": {
      "text/plain": [
       "purpose_lemmas_id\n",
       "1    0.084016\n",
       "2    0.080188\n",
       "3    0.100028\n",
       "4    0.073216\n",
       "5    0.097758\n",
       "Name: debt, dtype: float64"
      ]
     },
     "execution_count": 10,
     "metadata": {},
     "output_type": "execute_result"
    }
   ],
   "source": [
    "df.groupby('purpose_lemmas_id')['debt'].sum() / df.groupby('purpose_lemmas_id')['debt'].count()\n",
    "\n",
    "#1 - свадьба\n",
    "#2 - недвижимость\n",
    "#3 - автомобиль\n",
    "#4 - жилье\n",
    "#5 - образование\n"
   ]
  },
  {
   "cell_type": "markdown",
   "metadata": {},
   "source": [
    "### Вывод"
   ]
  },
  {
   "cell_type": "markdown",
   "metadata": {},
   "source": [
    "В ходе исследования выявлено, что люди, берущие кредит на <b>автомобили и образование</b> наиболее часто просрочивают кредит (<b>10%</b> всех случаев). Кредиты на <b>жилье</b> просрочиваются <b>реже всех</b> (около <b>7,3%</b>). Остальные категории кредита (<b>свадьба, недвижимость</b>) имеют риск быть просроченными с вероятностью от <b>8%</b> до <b>8,4%</b>. "
   ]
  },
  {
   "cell_type": "markdown",
   "metadata": {},
   "source": [
    "<div class=\"alert alert-success\">\n",
    "<h2> Комментарий ревьюера</h2>\n",
    "\n",
    "Верно. \n",
    "    \n",
    "</div>"
   ]
  },
  {
   "cell_type": "markdown",
   "metadata": {},
   "source": [
    "### Шаг 4. Общий вывод"
   ]
  },
  {
   "cell_type": "markdown",
   "metadata": {},
   "source": [
    "<i>В ходе исследования было установлено, что наиболее благоприятный заемщик:</i><br/> \n",
    "1) находится в <b>разводе</b><br/>\n",
    "2) имеет доход от <b>15 тыс.</b> до <b>60 тыс.</b> или от <b>250 тыс. включительно до миллиона.</b><br/>\n",
    "3) берет кредит на <b>жилье.</b><br/>\n",
    "\n",
    "<i>Заемщик представляющий наибольший определенный риск:</i><br/>\n",
    "1) находится в <b>гражданском браке</b> или <b>не женат</b> / <b>не замужем</b>.<br/>\n",
    "2) имеет доход от <b>60 тыс. включительно до 150 тыс.</b><br/>\n",
    "3) берет кредит на <b>автомобиль или образование</b>.<br/>\n",
    "\n",
    "<i>прим.</i> было также выявлено, что количество детей <b>не имеет определяющего значения</b>"
   ]
  },
  {
   "cell_type": "markdown",
   "metadata": {},
   "source": [
    "<div class=\"alert alert-success\">\n",
    "<h2> Комментарий ревьюера</h2>\n",
    "\n",
    "Выводы понятны и логичны, а самое главное подкреплены выявленными фактами.\n",
    "       \n",
    "В целом сам проект выполнен на хорошем уровне! На протяжении всей работы чувствуется глубина проработки задачи и это безусловный плюс для нас. Было использовано большое количество методов, которые будут помогать тебе в дальнейших проектах.\n",
    "    \n",
    "Не стоит забывать про оформление своей работы, это важный такой же важный этап. Рекомендую «не стесняться» использовать ячейки типа **markdown** там где нам необходимо отобразить свои размышления, в том числе с использованием дополнительной стилизации.\n",
    "    \n",
    "Успехов тебе в новых проектах! \n",
    "    \n",
    "</div>"
   ]
  },
  {
   "cell_type": "markdown",
   "metadata": {},
   "source": [
    "<div class=\"alert alert-success\">\n",
    "<h2> Комментарий ревьюера</h2>\n",
    "\n",
    "Рекомендую посмотреть на дополнительную стилизацию ячеек типа **markdown**.\n",
    "    \n",
    "**Жирный**\n",
    "*Курсив*\n",
    "    \n",
    "--- \n",
    "\n",
    "# Заголовок первого уровня\n",
    "\n",
    "--- \n",
    "    \n",
    "## Заголовок первого уровня\n",
    "  \n",
    "---  \n",
    "Списки:\n",
    "    \n",
    "- один \n",
    "- два\n",
    "- три\n",
    "   \n",
    "---\n",
    "    \n",
    "1. Раз\n",
    "2. Раз раз\n",
    "3. Раз два три\n",
    "    \n",
    "--- \n",
    "    \n",
    "Отображение `переменных`\n",
    "    \n",
    "    \n",
    "</div>"
   ]
  },
  {
   "cell_type": "markdown",
   "metadata": {},
   "source": [
    "### Чек-лист готовности проекта\n",
    "\n",
    "Поставьте 'x' в выполненных пунктах. Далее нажмите Shift+Enter."
   ]
  },
  {
   "cell_type": "markdown",
   "metadata": {},
   "source": [
    "- [x]  открыт файл;\n",
    "- [x]  файл изучен;\n",
    "- [x]  определены пропущенные значения;\n",
    "- [x]  заполнены пропущенные значения;\n",
    "- [x]  есть пояснение, какие пропущенные значения обнаружены;\n",
    "- [x]  описаны возможные причины появления пропусков в данных;\n",
    "- [x]  объяснено, по какому принципу заполнены пропуски;\n",
    "- [x]  заменен вещественный тип данных на целочисленный;\n",
    "- [x]  есть пояснение, какой метод используется для изменения типа данных и почему;\n",
    "- [x]  удалены дубликаты;\n",
    "- [x]  есть пояснение, какой метод используется для поиска и удаления дубликатов;\n",
    "- [x]  описаны возможные причины появления дубликатов в данных;\n",
    "- [x]  выделены леммы в значениях столбца с целями получения кредита;\n",
    "- [x]  описан процесс лемматизации;\n",
    "- [x]  данные категоризированы;\n",
    "- [x]  есть объяснение принципа категоризации данных;\n",
    "- [x]  есть ответ на вопрос: \"Есть ли зависимость между наличием детей и возвратом кредита в срок?\";\n",
    "- [x]  есть ответ на вопрос: \"Есть ли зависимость между семейным положением и возвратом кредита в срок?\";\n",
    "- [x]  есть ответ на вопрос: \"Есть ли зависимость между уровнем дохода и возвратом кредита в срок?\";\n",
    "- [x]  есть ответ на вопрос: \"Как разные цели кредита влияют на его возврат в срок?\";\n",
    "- [x]  в каждом этапе есть выводы;\n",
    "- [x]  есть общий вывод."
   ]
  }
 ],
 "metadata": {
  "kernelspec": {
   "display_name": "Python 3",
   "language": "python",
   "name": "python3"
  },
  "language_info": {
   "codemirror_mode": {
    "name": "ipython",
    "version": 3
   },
   "file_extension": ".py",
   "mimetype": "text/x-python",
   "name": "python",
   "nbconvert_exporter": "python",
   "pygments_lexer": "ipython3",
   "version": "3.8.3"
  }
 },
 "nbformat": 4,
 "nbformat_minor": 2
}
